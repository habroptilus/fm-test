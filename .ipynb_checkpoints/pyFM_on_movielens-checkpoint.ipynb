{
 "cells": [
  {
   "cell_type": "markdown",
   "metadata": {},
   "source": [
    "# pyFMでmovie lensしてみる"
   ]
  },
  {
   "cell_type": "code",
   "execution_count": 1,
   "metadata": {},
   "outputs": [],
   "source": [
    "from movielens_loader import MovielensLoader\n",
    "from pathlib import Path\n",
    "loader=MovielensLoader(data_dir=Path(\"./ml-100k\"))"
   ]
  },
  {
   "cell_type": "code",
   "execution_count": 2,
   "metadata": {},
   "outputs": [],
   "source": [
    "X_train,y_train,X_test,y_test=loader.create_dataset(include_context_features=True)"
   ]
  },
  {
   "cell_type": "code",
   "execution_count": 3,
   "metadata": {},
   "outputs": [
    {
     "data": {
      "text/plain": [
       "((90570, 2646), (9430, 2646))"
      ]
     },
     "execution_count": 3,
     "metadata": {},
     "output_type": "execute_result"
    }
   ],
   "source": [
    "X_train.toarray().shape,X_test.toarray().shape"
   ]
  },
  {
   "cell_type": "code",
   "execution_count": 4,
   "metadata": {},
   "outputs": [],
   "source": [
    "from pyfm import pylibfm\n",
    "fm = pylibfm.FM(num_factors=10, num_iter=100, verbose=True, task=\"regression\", initial_learning_rate=0.001, learning_rate_schedule=\"optimal\")"
   ]
  },
  {
   "cell_type": "code",
   "execution_count": 5,
   "metadata": {},
   "outputs": [
    {
     "name": "stdout",
     "output_type": "stream",
     "text": [
      "Creating validation dataset of 0.01 of training for adaptive regularization\n",
      "-- Epoch 1\n",
      "Training MSE: 0.57658\n",
      "-- Epoch 2\n",
      "Training MSE: 0.49006\n",
      "-- Epoch 3\n",
      "Training MSE: 0.45941\n",
      "-- Epoch 4\n",
      "Training MSE: 0.44539\n",
      "-- Epoch 5\n",
      "Training MSE: 0.43775\n",
      "-- Epoch 6\n",
      "Training MSE: 0.43302\n",
      "-- Epoch 7\n",
      "Training MSE: 0.42957\n",
      "-- Epoch 8\n",
      "Training MSE: 0.42692\n",
      "-- Epoch 9\n",
      "Training MSE: 0.42456\n",
      "-- Epoch 10\n",
      "Training MSE: 0.42228\n",
      "-- Epoch 11\n",
      "Training MSE: 0.42037\n",
      "-- Epoch 12\n",
      "Training MSE: 0.41863\n",
      "-- Epoch 13\n",
      "Training MSE: 0.41673\n",
      "-- Epoch 14\n",
      "Training MSE: 0.41512\n",
      "-- Epoch 15\n",
      "Training MSE: 0.41352\n",
      "-- Epoch 16\n",
      "Training MSE: 0.41206\n",
      "-- Epoch 17\n",
      "Training MSE: 0.41051\n",
      "-- Epoch 18\n",
      "Training MSE: 0.40893\n",
      "-- Epoch 19\n",
      "Training MSE: 0.40719\n",
      "-- Epoch 20\n",
      "Training MSE: 0.40542\n",
      "-- Epoch 21\n",
      "Training MSE: 0.40406\n",
      "-- Epoch 22\n",
      "Training MSE: 0.40279\n",
      "-- Epoch 23\n",
      "Training MSE: 0.40106\n",
      "-- Epoch 24\n",
      "Training MSE: 0.39952\n",
      "-- Epoch 25\n",
      "Training MSE: 0.39821\n",
      "-- Epoch 26\n",
      "Training MSE: 0.39655\n",
      "-- Epoch 27\n",
      "Training MSE: 0.39512\n",
      "-- Epoch 28\n",
      "Training MSE: 0.39368\n",
      "-- Epoch 29\n",
      "Training MSE: 0.39193\n",
      "-- Epoch 30\n",
      "Training MSE: 0.39084\n",
      "-- Epoch 31\n",
      "Training MSE: 0.38915\n",
      "-- Epoch 32\n",
      "Training MSE: 0.38740\n",
      "-- Epoch 33\n",
      "Training MSE: 0.38601\n",
      "-- Epoch 34\n",
      "Training MSE: 0.38432\n",
      "-- Epoch 35\n",
      "Training MSE: 0.38282\n",
      "-- Epoch 36\n",
      "Training MSE: 0.38133\n",
      "-- Epoch 37\n",
      "Training MSE: 0.37966\n",
      "-- Epoch 38\n",
      "Training MSE: 0.37810\n",
      "-- Epoch 39\n",
      "Training MSE: 0.37647\n",
      "-- Epoch 40\n",
      "Training MSE: 0.37503\n",
      "-- Epoch 41\n",
      "Training MSE: 0.37335\n",
      "-- Epoch 42\n",
      "Training MSE: 0.37187\n",
      "-- Epoch 43\n",
      "Training MSE: 0.37033\n",
      "-- Epoch 44\n",
      "Training MSE: 0.36866\n",
      "-- Epoch 45\n",
      "Training MSE: 0.36721\n",
      "-- Epoch 46\n",
      "Training MSE: 0.36577\n",
      "-- Epoch 47\n",
      "Training MSE: 0.36420\n",
      "-- Epoch 48\n",
      "Training MSE: 0.36250\n",
      "-- Epoch 49\n",
      "Training MSE: 0.36121\n",
      "-- Epoch 50\n",
      "Training MSE: 0.35970\n",
      "-- Epoch 51\n",
      "Training MSE: 0.35838\n",
      "-- Epoch 52\n",
      "Training MSE: 0.35696\n",
      "-- Epoch 53\n",
      "Training MSE: 0.35544\n",
      "-- Epoch 54\n",
      "Training MSE: 0.35405\n",
      "-- Epoch 55\n",
      "Training MSE: 0.35284\n",
      "-- Epoch 56\n",
      "Training MSE: 0.35136\n",
      "-- Epoch 57\n",
      "Training MSE: 0.34998\n",
      "-- Epoch 58\n",
      "Training MSE: 0.34867\n",
      "-- Epoch 59\n",
      "Training MSE: 0.34756\n",
      "-- Epoch 60\n",
      "Training MSE: 0.34619\n",
      "-- Epoch 61\n",
      "Training MSE: 0.34494\n",
      "-- Epoch 62\n",
      "Training MSE: 0.34375\n",
      "-- Epoch 63\n",
      "Training MSE: 0.34262\n",
      "-- Epoch 64\n",
      "Training MSE: 0.34126\n",
      "-- Epoch 65\n",
      "Training MSE: 0.34037\n",
      "-- Epoch 66\n",
      "Training MSE: 0.33920\n",
      "-- Epoch 67\n",
      "Training MSE: 0.33820\n",
      "-- Epoch 68\n",
      "Training MSE: 0.33689\n",
      "-- Epoch 69\n",
      "Training MSE: 0.33614\n",
      "-- Epoch 70\n",
      "Training MSE: 0.33475\n",
      "-- Epoch 71\n",
      "Training MSE: 0.33412\n",
      "-- Epoch 72\n",
      "Training MSE: 0.33328\n",
      "-- Epoch 73\n",
      "Training MSE: 0.33208\n",
      "-- Epoch 74\n",
      "Training MSE: 0.33110\n",
      "-- Epoch 75\n",
      "Training MSE: 0.33028\n",
      "-- Epoch 76\n",
      "Training MSE: 0.32949\n",
      "-- Epoch 77\n",
      "Training MSE: 0.32876\n",
      "-- Epoch 78\n",
      "Training MSE: 0.32776\n",
      "-- Epoch 79\n",
      "Training MSE: 0.32693\n",
      "-- Epoch 80\n",
      "Training MSE: 0.32621\n",
      "-- Epoch 81\n",
      "Training MSE: 0.32538\n",
      "-- Epoch 82\n",
      "Training MSE: 0.32478\n",
      "-- Epoch 83\n",
      "Training MSE: 0.32394\n",
      "-- Epoch 84\n",
      "Training MSE: 0.32325\n",
      "-- Epoch 85\n",
      "Training MSE: 0.32263\n",
      "-- Epoch 86\n",
      "Training MSE: 0.32190\n",
      "-- Epoch 87\n",
      "Training MSE: 0.32124\n",
      "-- Epoch 88\n",
      "Training MSE: 0.32065\n",
      "-- Epoch 89\n",
      "Training MSE: 0.31991\n",
      "-- Epoch 90\n",
      "Training MSE: 0.31928\n",
      "-- Epoch 91\n",
      "Training MSE: 0.31867\n",
      "-- Epoch 92\n",
      "Training MSE: 0.31816\n",
      "-- Epoch 93\n",
      "Training MSE: 0.31771\n",
      "-- Epoch 94\n",
      "Training MSE: 0.31720\n",
      "-- Epoch 95\n",
      "Training MSE: 0.31651\n",
      "-- Epoch 96\n",
      "Training MSE: 0.31601\n",
      "-- Epoch 97\n",
      "Training MSE: 0.31546\n",
      "-- Epoch 98\n",
      "Training MSE: 0.31510\n",
      "-- Epoch 99\n",
      "Training MSE: 0.31464\n",
      "-- Epoch 100\n",
      "Training MSE: 0.31404\n"
     ]
    }
   ],
   "source": [
    "fm.fit(X_train,y_train)"
   ]
  },
  {
   "cell_type": "code",
   "execution_count": 6,
   "metadata": {},
   "outputs": [
    {
     "name": "stdout",
     "output_type": "stream",
     "text": [
      "FM RMSE: 0.9417\n"
     ]
    }
   ],
   "source": [
    "from sklearn.metrics import mean_squared_error\n",
    "import numpy as np\n",
    "preds = fm.predict(X_test)\n",
    "rmse = np.sqrt(mean_squared_error(y_test,preds))\n",
    "print(f\"FM RMSE: {rmse:.4f}\")"
   ]
  },
  {
   "cell_type": "code",
   "execution_count": 7,
   "metadata": {},
   "outputs": [
    {
     "name": "stdout",
     "output_type": "stream",
     "text": [
      "[Baseline] : RMSE = 1.1220\n"
     ]
    }
   ],
   "source": [
    "y_train_mean=y_train.mean()*np.ones(len(y_test))\n",
    "print(f\"[Baseline] : RMSE = {np.sqrt(mean_squared_error(y_train_mean, y_test)):0.4f}\")"
   ]
  },
  {
   "cell_type": "code",
   "execution_count": null,
   "metadata": {},
   "outputs": [],
   "source": []
  },
  {
   "cell_type": "code",
   "execution_count": null,
   "metadata": {},
   "outputs": [],
   "source": []
  }
 ],
 "metadata": {
  "kernelspec": {
   "display_name": "Python 3",
   "language": "python",
   "name": "python3"
  },
  "language_info": {
   "codemirror_mode": {
    "name": "ipython",
    "version": 3
   },
   "file_extension": ".py",
   "mimetype": "text/x-python",
   "name": "python",
   "nbconvert_exporter": "python",
   "pygments_lexer": "ipython3",
   "version": "3.6.7"
  }
 },
 "nbformat": 4,
 "nbformat_minor": 2
}
