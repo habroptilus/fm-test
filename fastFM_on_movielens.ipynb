{
 "cells": [
  {
   "cell_type": "code",
   "execution_count": 1,
   "metadata": {},
   "outputs": [],
   "source": [
    "from movielens_loader import MovielensLoader\n",
    "from pathlib import Path\n",
    "loader=MovielensLoader(data_dir=Path(\"./ml-100k\"))"
   ]
  },
  {
   "cell_type": "code",
   "execution_count": 2,
   "metadata": {},
   "outputs": [],
   "source": [
    "X_train,y_train,X_test,y_test=loader.create_dataset()"
   ]
  },
  {
   "cell_type": "code",
   "execution_count": 3,
   "metadata": {},
   "outputs": [
    {
     "data": {
      "text/plain": [
       "((90570, 966), (9430, 966))"
      ]
     },
     "execution_count": 3,
     "metadata": {},
     "output_type": "execute_result"
    }
   ],
   "source": [
    "X_train.toarray().shape,X_test.toarray().shape"
   ]
  },
  {
   "cell_type": "code",
   "execution_count": 4,
   "metadata": {},
   "outputs": [],
   "source": [
    "from sklearn.metrics import mean_squared_error\n",
    "import numpy as np\n",
    "\n",
    "def get_rmse(model,X, y):\n",
    "    y_pred=model.predict(X)\n",
    "    return np.sqrt(mean_squared_error(y_pred, y))\n",
    "\n",
    "def train(model,X_train,y_train,n_iter,iter_size=1):\n",
    "    model.fit(X_train,y_train) # initのためにこれが必要\n",
    "    rmse_hist=[]\n",
    "    iter_size=1\n",
    "    for i in range(n_iter):\n",
    "        model.fit(X_train, y_train,n_more_iter=iter_size)\n",
    "        rmse_train=get_rmse(model,X_train,y_train)\n",
    "        rmse_hist.append(rmse_train)\n",
    "    \n",
    "        if (i+1)%10==0: \n",
    "            print(f\" epoch = {i+1}, Train RMSE : {rmse_train: 0.4f}\")\n",
    "    return model,rmse_hist"
   ]
  },
  {
   "cell_type": "code",
   "execution_count": 5,
   "metadata": {
    "scrolled": true
   },
   "outputs": [
    {
     "name": "stdout",
     "output_type": "stream",
     "text": [
      " epoch = 10, Train RMSE :  1.0309\n",
      " epoch = 20, Train RMSE :  1.0309\n",
      " epoch = 30, Train RMSE :  1.0309\n",
      " epoch = 40, Train RMSE :  1.0309\n",
      " epoch = 50, Train RMSE :  1.0309\n",
      " epoch = 60, Train RMSE :  1.0309\n",
      " epoch = 70, Train RMSE :  1.0309\n",
      " epoch = 80, Train RMSE :  1.0309\n",
      " epoch = 90, Train RMSE :  1.0309\n",
      " epoch = 100, Train RMSE :  1.0309\n"
     ]
    }
   ],
   "source": [
    "from fastFM import als,sgd\n",
    "model = als.FMRegression(n_iter=0, l2_reg_w=0.1, l2_reg_V=0.1, rank=10)\n",
    "\n",
    "model,history=train(model,X_train,y_train, n_iter=100)"
   ]
  },
  {
   "cell_type": "code",
   "execution_count": 6,
   "metadata": {},
   "outputs": [],
   "source": [
    "y_pred=model.predict(X_test)"
   ]
  },
  {
   "cell_type": "code",
   "execution_count": 7,
   "metadata": {},
   "outputs": [],
   "source": [
    "y_train_mean=y_train.mean()*np.ones(len(y_test))"
   ]
  },
  {
   "cell_type": "code",
   "execution_count": 8,
   "metadata": {},
   "outputs": [
    {
     "name": "stdout",
     "output_type": "stream",
     "text": [
      "[FM] : RMSE = 1.0431\n",
      "[Baseline] : RMSE = 1.1220\n"
     ]
    }
   ],
   "source": [
    "print(f\"[FM] : RMSE = {get_rmse(model,X_test,y_test):0.4f}\")\n",
    "print(f\"[Baseline] : RMSE = {np.sqrt(mean_squared_error(y_train_mean, y_test)):0.4f}\")"
   ]
  },
  {
   "cell_type": "code",
   "execution_count": 9,
   "metadata": {},
   "outputs": [],
   "source": [
    "import matplotlib.pyplot as plt\n",
    "\n",
    "def plot_learning_curve(history):\n",
    "    plt.figure()\n",
    "    plt.title(\"Learning Curve\")\n",
    "    plt.xlabel(\"n_iter\")\n",
    "    plt.ylabel(\"RMSE\")\n",
    "    n_iter=len(history)\n",
    "    # Traing score と Test score をプロット\n",
    "    plt.plot(list(range(1,n_iter+1)), history, label=\"train loss\")\n",
    "    plt.legend()\n",
    "    plt.show()"
   ]
  },
  {
   "cell_type": "code",
   "execution_count": 10,
   "metadata": {},
   "outputs": [
    {
     "data": {
      "image/png": "[encoded data removed]",
      "text/plain": [
       "<matplotlib.figure.Figure at 0x110eb1908>"
      ]
     },
     "metadata": {},
     "output_type": "display_data"
    }
   ],
   "source": [
    "plot_learning_curve(history)"
   ]
  },
  {
   "cell_type": "code",
   "execution_count": null,
   "metadata": {},
   "outputs": [],
   "source": []
  },
  {
   "cell_type": "code",
   "execution_count": null,
   "metadata": {},
   "outputs": [],
   "source": []
  },
  {
   "cell_type": "code",
   "execution_count": null,
   "metadata": {},
   "outputs": [],
   "source": []
  }
 ],
 "metadata": {
  "kernelspec": {
   "display_name": "Python 3",
   "language": "python",
   "name": "python3"
  },
  "language_info": {
   "codemirror_mode": {
    "name": "ipython",
    "version": 3
   },
   "file_extension": ".py",
   "mimetype": "text/x-python",
   "name": "python",
   "nbconvert_exporter": "python",
   "pygments_lexer": "ipython3",
   "version": "3.6.7"
  }
 },
 "nbformat": 4,
 "nbformat_minor": 2
}
