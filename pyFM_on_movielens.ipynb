{
 "cells": [
  {
   "cell_type": "markdown",
   "metadata": {},
   "source": [
    "# pyFMでmovie lensしてみる"
   ]
  },
  {
   "cell_type": "code",
   "execution_count": 1,
   "metadata": {},
   "outputs": [],
   "source": [
    "from movielens_loader import MovielensLoader\n",
    "from pathlib import Path\n",
    "loader=MovielensLoader(data_dir=Path(\"./ml-100k\"))"
   ]
  },
  {
   "cell_type": "code",
   "execution_count": 2,
   "metadata": {},
   "outputs": [],
   "source": [
    "X_train,y_train,X_test,y_test=loader.create_dataset(include_context_features=True)"
   ]
  },
  {
   "cell_type": "code",
   "execution_count": 3,
   "metadata": {},
   "outputs": [
    {
     "data": {
      "text/plain": [
       "((90570, 2646), (9430, 2646))"
      ]
     },
     "execution_count": 3,
     "metadata": {},
     "output_type": "execute_result"
    }
   ],
   "source": [
    "X_train.toarray().shape,X_test.toarray().shape"
   ]
  },
  {
   "cell_type": "code",
   "execution_count": 4,
   "metadata": {},
   "outputs": [],
   "source": [
    "from pyfm import pylibfm\n",
    "fm = pylibfm.FM(num_factors=10, num_iter=100, verbose=True, task=\"regression\", initial_learning_rate=0.001, learning_rate_schedule=\"optimal\")"
   ]
  },
  {
   "cell_type": "code",
   "execution_count": 5,
   "metadata": {},
   "outputs": [
    {
     "name": "stdout",
     "output_type": "stream",
     "text": [
      "Creating validation dataset of 0.01 of training for adaptive regularization\n",
      "-- Epoch 1\n",
      "Training MSE: 0.57682\n",
      "-- Epoch 2\n",
      "Training MSE: 0.49032\n",
      "-- Epoch 3\n",
      "Training MSE: 0.45951\n",
      "-- Epoch 4\n",
      "Training MSE: 0.44543\n",
      "-- Epoch 5\n",
      "Training MSE: 0.43773\n",
      "-- Epoch 6\n",
      "Training MSE: 0.43291\n",
      "-- Epoch 7\n",
      "Training MSE: 0.42967\n",
      "-- Epoch 8\n",
      "Training MSE: 0.42678\n",
      "-- Epoch 9\n",
      "Training MSE: 0.42442\n",
      "-- Epoch 10\n",
      "Training MSE: 0.42235\n",
      "-- Epoch 11\n",
      "Training MSE: 0.42047\n",
      "-- Epoch 12\n",
      "Training MSE: 0.41886\n",
      "-- Epoch 13\n",
      "Training MSE: 0.41722\n",
      "-- Epoch 14\n",
      "Training MSE: 0.41531\n",
      "-- Epoch 15\n",
      "Training MSE: 0.41420\n",
      "-- Epoch 16\n",
      "Training MSE: 0.41230\n",
      "-- Epoch 17\n",
      "Training MSE: 0.41080\n",
      "-- Epoch 18\n",
      "Training MSE: 0.40934\n",
      "-- Epoch 19\n",
      "Training MSE: 0.40803\n",
      "-- Epoch 20\n",
      "Training MSE: 0.40633\n",
      "-- Epoch 21\n",
      "Training MSE: 0.40486\n",
      "-- Epoch 22\n",
      "Training MSE: 0.40335\n",
      "-- Epoch 23\n",
      "Training MSE: 0.40191\n",
      "-- Epoch 24\n",
      "Training MSE: 0.40036\n",
      "-- Epoch 25\n",
      "Training MSE: 0.39874\n",
      "-- Epoch 26\n",
      "Training MSE: 0.39725\n",
      "-- Epoch 27\n",
      "Training MSE: 0.39545\n",
      "-- Epoch 28\n",
      "Training MSE: 0.39418\n",
      "-- Epoch 29\n",
      "Training MSE: 0.39236\n",
      "-- Epoch 30\n",
      "Training MSE: 0.39094\n",
      "-- Epoch 31\n",
      "Training MSE: 0.38923\n",
      "-- Epoch 32\n",
      "Training MSE: 0.38738\n",
      "-- Epoch 33\n",
      "Training MSE: 0.38570\n",
      "-- Epoch 34\n",
      "Training MSE: 0.38401\n",
      "-- Epoch 35\n",
      "Training MSE: 0.38211\n",
      "-- Epoch 36\n",
      "Training MSE: 0.38058\n",
      "-- Epoch 37\n",
      "Training MSE: 0.37892\n",
      "-- Epoch 38\n",
      "Training MSE: 0.37718\n",
      "-- Epoch 39\n",
      "Training MSE: 0.37557\n",
      "-- Epoch 40\n",
      "Training MSE: 0.37386\n",
      "-- Epoch 41\n",
      "Training MSE: 0.37224\n",
      "-- Epoch 42\n",
      "Training MSE: 0.37059\n",
      "-- Epoch 43\n",
      "Training MSE: 0.36867\n",
      "-- Epoch 44\n",
      "Training MSE: 0.36735\n",
      "-- Epoch 45\n",
      "Training MSE: 0.36564\n",
      "-- Epoch 46\n",
      "Training MSE: 0.36407\n",
      "-- Epoch 47\n",
      "Training MSE: 0.36237\n",
      "-- Epoch 48\n",
      "Training MSE: 0.36102\n",
      "-- Epoch 49\n",
      "Training MSE: 0.35944\n",
      "-- Epoch 50\n",
      "Training MSE: 0.35821\n",
      "-- Epoch 51\n",
      "Training MSE: 0.35652\n",
      "-- Epoch 52\n",
      "Training MSE: 0.35519\n",
      "-- Epoch 53\n",
      "Training MSE: 0.35369\n",
      "-- Epoch 54\n",
      "Training MSE: 0.35242\n",
      "-- Epoch 55\n",
      "Training MSE: 0.35082\n",
      "-- Epoch 56\n",
      "Training MSE: 0.34955\n",
      "-- Epoch 57\n",
      "Training MSE: 0.34840\n",
      "-- Epoch 58\n",
      "Training MSE: 0.34720\n",
      "-- Epoch 59\n",
      "Training MSE: 0.34595\n",
      "-- Epoch 60\n",
      "Training MSE: 0.34488\n",
      "-- Epoch 61\n",
      "Training MSE: 0.34373\n",
      "-- Epoch 62\n",
      "Training MSE: 0.34270\n",
      "-- Epoch 63\n",
      "Training MSE: 0.34177\n",
      "-- Epoch 64\n",
      "Training MSE: 0.34053\n",
      "-- Epoch 65\n",
      "Training MSE: 0.33953\n",
      "-- Epoch 66\n",
      "Training MSE: 0.33859\n",
      "-- Epoch 67\n",
      "Training MSE: 0.33754\n",
      "-- Epoch 68\n",
      "Training MSE: 0.33708\n",
      "-- Epoch 69\n",
      "Training MSE: 0.33597\n",
      "-- Epoch 70\n",
      "Training MSE: 0.33509\n",
      "-- Epoch 71\n",
      "Training MSE: 0.33437\n",
      "-- Epoch 72\n",
      "Training MSE: 0.33373\n",
      "-- Epoch 73\n",
      "Training MSE: 0.33288\n",
      "-- Epoch 74\n",
      "Training MSE: 0.33225\n",
      "-- Epoch 75\n",
      "Training MSE: 0.33147\n",
      "-- Epoch 76\n",
      "Training MSE: 0.33080\n",
      "-- Epoch 77\n",
      "Training MSE: 0.33017\n",
      "-- Epoch 78\n",
      "Training MSE: 0.32972\n",
      "-- Epoch 79\n",
      "Training MSE: 0.32891\n",
      "-- Epoch 80\n",
      "Training MSE: 0.32854\n",
      "-- Epoch 81\n",
      "Training MSE: 0.32806\n",
      "-- Epoch 82\n",
      "Training MSE: 0.32767\n",
      "-- Epoch 83\n",
      "Training MSE: 0.32702\n",
      "-- Epoch 84\n",
      "Training MSE: 0.32683\n",
      "-- Epoch 85\n",
      "Training MSE: 0.32613\n",
      "-- Epoch 86\n",
      "Training MSE: 0.32577\n",
      "-- Epoch 87\n",
      "Training MSE: 0.32548\n",
      "-- Epoch 88\n",
      "Training MSE: 0.32519\n",
      "-- Epoch 89\n",
      "Training MSE: 0.32483\n",
      "-- Epoch 90\n",
      "Training MSE: 0.32464\n",
      "-- Epoch 91\n",
      "Training MSE: 0.32420\n",
      "-- Epoch 92\n",
      "Training MSE: 0.32373\n",
      "-- Epoch 93\n",
      "Training MSE: 0.32356\n",
      "-- Epoch 94\n",
      "Training MSE: 0.32337\n",
      "-- Epoch 95\n",
      "Training MSE: 0.32302\n",
      "-- Epoch 96\n",
      "Training MSE: 0.32292\n",
      "-- Epoch 97\n",
      "Training MSE: 0.32258\n",
      "-- Epoch 98\n",
      "Training MSE: 0.32253\n",
      "-- Epoch 99\n",
      "Training MSE: 0.32230\n",
      "-- Epoch 100\n",
      "Training MSE: 0.32211\n"
     ]
    }
   ],
   "source": [
    "fm.fit(X_train,y_train)"
   ]
  },
  {
   "cell_type": "code",
   "execution_count": 14,
   "metadata": {},
   "outputs": [
    {
     "name": "stdout",
     "output_type": "stream",
     "text": [
      "FM RMSE: 0.9427\n"
     ]
    }
   ],
   "source": [
    "from sklearn.metrics import mean_squared_error\n",
    "import numpy as np\n",
    "preds = fm.predict(X_test)\n",
    "rmse = np.sqrt(mean_squared_error(y_test,preds))\n",
    "print(f\"FM RMSE: {rmse:.4f}\")"
   ]
  },
  {
   "cell_type": "code",
   "execution_count": 7,
   "metadata": {},
   "outputs": [
    {
     "name": "stdout",
     "output_type": "stream",
     "text": [
      "[Baseline] : RMSE = 1.1220\n"
     ]
    }
   ],
   "source": [
    "# baseline\n",
    "y_train_mean=y_train.mean()*np.ones(len(y_test))\n",
    "print(f\"[Baseline] : RMSE = {np.sqrt(mean_squared_error(y_train_mean, y_test)):0.4f}\")"
   ]
  },
  {
   "cell_type": "code",
   "execution_count": 19,
   "metadata": {},
   "outputs": [
    {
     "name": "stdout",
     "output_type": "stream",
     "text": [
      "LightGBM RMSE: 1.0315\n"
     ]
    }
   ],
   "source": [
    "import lightgbm as lgb\n",
    "gbm = lgb.LGBMRegressor()\n",
    "gbm.fit(X_train.toarray(), y_train)\n",
    "preds= gbm.predict(X_test.toarray())\n",
    "rmse = np.sqrt(mean_squared_error(y_test,preds))\n",
    "print(f\"LightGBM RMSE: {rmse:.4f}\")"
   ]
  },
  {
   "cell_type": "code",
   "execution_count": null,
   "metadata": {},
   "outputs": [],
   "source": []
  }
 ],
 "metadata": {
  "kernelspec": {
   "display_name": "Python 3",
   "language": "python",
   "name": "python3"
  },
  "language_info": {
   "codemirror_mode": {
    "name": "ipython",
    "version": 3
   },
   "file_extension": ".py",
   "mimetype": "text/x-python",
   "name": "python",
   "nbconvert_exporter": "python",
   "pygments_lexer": "ipython3",
   "version": "3.6.7"
  }
 },
 "nbformat": 4,
 "nbformat_minor": 2
}
