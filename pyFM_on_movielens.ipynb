{
 "cells": [
  {
   "cell_type": "markdown",
   "metadata": {},
   "source": [
    "# pyFMでmovie lensしてみる"
   ]
  },
  {
   "cell_type": "code",
   "execution_count": 1,
   "metadata": {},
   "outputs": [],
   "source": [
    "from movielens_loader import MovielensLoader\n",
    "from pathlib import Path\n",
    "loader=MovielensLoader(data_dir=Path(\"./ml-100k\"))"
   ]
  },
  {
   "cell_type": "code",
   "execution_count": 2,
   "metadata": {},
   "outputs": [],
   "source": [
    "X_train,y_train,X_test,y_test=loader.create_dataset(include_user_features=True,include_item_features=True)"
   ]
  },
  {
   "cell_type": "code",
   "execution_count": 3,
   "metadata": {},
   "outputs": [
    {
     "data": {
      "text/plain": [
       "((90570, 2642), (9430, 2642))"
      ]
     },
     "execution_count": 3,
     "metadata": {},
     "output_type": "execute_result"
    }
   ],
   "source": [
    "X_train.toarray().shape,X_test.toarray().shape"
   ]
  },
  {
   "cell_type": "code",
   "execution_count": 14,
   "metadata": {},
   "outputs": [],
   "source": [
    "from pyfm import pylibfm\n",
    "fm = pylibfm.FM(num_factors=10, num_iter=100, verbose=True, task=\"regression\", initial_learning_rate=0.001, learning_rate_schedule=\"optimal\")"
   ]
  },
  {
   "cell_type": "code",
   "execution_count": 15,
   "metadata": {},
   "outputs": [
    {
     "name": "stdout",
     "output_type": "stream",
     "text": [
      "Creating validation dataset of 0.01 of training for adaptive regularization\n",
      "-- Epoch 1\n",
      "Training MSE: 0.63021\n",
      "-- Epoch 2\n",
      "Training MSE: 0.58873\n",
      "-- Epoch 3\n",
      "Training MSE: 0.57494\n",
      "-- Epoch 4\n",
      "Training MSE: 0.56612\n",
      "-- Epoch 5\n",
      "Training MSE: 0.56004\n",
      "-- Epoch 6\n",
      "Training MSE: 0.55546\n",
      "-- Epoch 7\n",
      "Training MSE: 0.55175\n",
      "-- Epoch 8\n",
      "Training MSE: 0.54931\n",
      "-- Epoch 9\n",
      "Training MSE: 0.54648\n",
      "-- Epoch 10\n",
      "Training MSE: 0.54432\n",
      "-- Epoch 11\n",
      "Training MSE: 0.54249\n",
      "-- Epoch 12\n",
      "Training MSE: 0.54058\n",
      "-- Epoch 13\n",
      "Training MSE: 0.53886\n",
      "-- Epoch 14\n",
      "Training MSE: 0.53710\n",
      "-- Epoch 15\n",
      "Training MSE: 0.53562\n",
      "-- Epoch 16\n",
      "Training MSE: 0.53432\n",
      "-- Epoch 17\n",
      "Training MSE: 0.53302\n",
      "-- Epoch 18\n",
      "Training MSE: 0.53200\n",
      "-- Epoch 19\n",
      "Training MSE: 0.53068\n",
      "-- Epoch 20\n",
      "Training MSE: 0.52978\n",
      "-- Epoch 21\n",
      "Training MSE: 0.52849\n",
      "-- Epoch 22\n",
      "Training MSE: 0.52749\n",
      "-- Epoch 23\n",
      "Training MSE: 0.52626\n",
      "-- Epoch 24\n",
      "Training MSE: 0.52500\n",
      "-- Epoch 25\n",
      "Training MSE: 0.52395\n",
      "-- Epoch 26\n",
      "Training MSE: 0.52297\n",
      "-- Epoch 27\n",
      "Training MSE: 0.52178\n",
      "-- Epoch 28\n",
      "Training MSE: 0.52064\n",
      "-- Epoch 29\n",
      "Training MSE: 0.51928\n",
      "-- Epoch 30\n",
      "Training MSE: 0.51832\n",
      "-- Epoch 31\n",
      "Training MSE: 0.51718\n",
      "-- Epoch 32\n",
      "Training MSE: 0.51596\n",
      "-- Epoch 33\n",
      "Training MSE: 0.51486\n",
      "-- Epoch 34\n",
      "Training MSE: 0.51343\n",
      "-- Epoch 35\n",
      "Training MSE: 0.51219\n",
      "-- Epoch 36\n",
      "Training MSE: 0.51082\n",
      "-- Epoch 37\n",
      "Training MSE: 0.50966\n",
      "-- Epoch 38\n",
      "Training MSE: 0.50827\n",
      "-- Epoch 39\n",
      "Training MSE: 0.50651\n",
      "-- Epoch 40\n",
      "Training MSE: 0.50532\n",
      "-- Epoch 41\n",
      "Training MSE: 0.50405\n",
      "-- Epoch 42\n",
      "Training MSE: 0.50227\n",
      "-- Epoch 43\n",
      "Training MSE: 0.50114\n",
      "-- Epoch 44\n",
      "Training MSE: 0.49938\n",
      "-- Epoch 45\n",
      "Training MSE: 0.49806\n",
      "-- Epoch 46\n",
      "Training MSE: 0.49666\n",
      "-- Epoch 47\n",
      "Training MSE: 0.49487\n",
      "-- Epoch 48\n",
      "Training MSE: 0.49343\n",
      "-- Epoch 49\n",
      "Training MSE: 0.49212\n",
      "-- Epoch 50\n",
      "Training MSE: 0.49054\n",
      "-- Epoch 51\n",
      "Training MSE: 0.48923\n",
      "-- Epoch 52\n",
      "Training MSE: 0.48771\n",
      "-- Epoch 53\n",
      "Training MSE: 0.48627\n",
      "-- Epoch 54\n",
      "Training MSE: 0.48490\n",
      "-- Epoch 55\n",
      "Training MSE: 0.48363\n",
      "-- Epoch 56\n",
      "Training MSE: 0.48213\n",
      "-- Epoch 57\n",
      "Training MSE: 0.48102\n",
      "-- Epoch 58\n",
      "Training MSE: 0.47982\n",
      "-- Epoch 59\n",
      "Training MSE: 0.47848\n",
      "-- Epoch 60\n",
      "Training MSE: 0.47773\n",
      "-- Epoch 61\n",
      "Training MSE: 0.47613\n",
      "-- Epoch 62\n",
      "Training MSE: 0.47528\n",
      "-- Epoch 63\n",
      "Training MSE: 0.47427\n",
      "-- Epoch 64\n",
      "Training MSE: 0.47346\n",
      "-- Epoch 65\n",
      "Training MSE: 0.47226\n",
      "-- Epoch 66\n",
      "Training MSE: 0.47162\n",
      "-- Epoch 67\n",
      "Training MSE: 0.47076\n",
      "-- Epoch 68\n",
      "Training MSE: 0.47011\n",
      "-- Epoch 69\n",
      "Training MSE: 0.46932\n",
      "-- Epoch 70\n",
      "Training MSE: 0.46859\n",
      "-- Epoch 71\n",
      "Training MSE: 0.46814\n",
      "-- Epoch 72\n",
      "Training MSE: 0.46747\n",
      "-- Epoch 73\n",
      "Training MSE: 0.46690\n",
      "-- Epoch 74\n",
      "Training MSE: 0.46681\n",
      "-- Epoch 75\n",
      "Training MSE: 0.46629\n",
      "-- Epoch 76\n",
      "Training MSE: 0.46590\n",
      "-- Epoch 77\n",
      "Training MSE: 0.46523\n",
      "-- Epoch 78\n",
      "Training MSE: 0.46501\n",
      "-- Epoch 79\n",
      "Training MSE: 0.46499\n",
      "-- Epoch 80\n",
      "Training MSE: 0.46470\n",
      "-- Epoch 81\n",
      "Training MSE: 0.46446\n",
      "-- Epoch 82\n",
      "Training MSE: 0.46432\n",
      "-- Epoch 83\n",
      "Training MSE: 0.46414\n",
      "-- Epoch 84\n",
      "Training MSE: 0.46445\n",
      "-- Epoch 85\n",
      "Training MSE: 0.46414\n",
      "-- Epoch 86\n",
      "Training MSE: 0.46410\n",
      "-- Epoch 87\n",
      "Training MSE: 0.46398\n",
      "-- Epoch 88\n",
      "Training MSE: 0.46413\n",
      "-- Epoch 89\n",
      "Training MSE: 0.46419\n",
      "-- Epoch 90\n",
      "Training MSE: 0.46426\n",
      "-- Epoch 91\n",
      "Training MSE: 0.46432\n",
      "-- Epoch 92\n",
      "Training MSE: 0.46451\n",
      "-- Epoch 93\n",
      "Training MSE: 0.46443\n",
      "-- Epoch 94\n",
      "Training MSE: 0.46447\n",
      "-- Epoch 95\n",
      "Training MSE: 0.46467\n",
      "-- Epoch 96\n",
      "Training MSE: 0.46469\n",
      "-- Epoch 97\n",
      "Training MSE: 0.46516\n",
      "-- Epoch 98\n",
      "Training MSE: 0.46495\n",
      "-- Epoch 99\n",
      "Training MSE: 0.46522\n",
      "-- Epoch 100\n",
      "Training MSE: 0.46556\n"
     ]
    }
   ],
   "source": [
    "fm.fit(X_train,y_train)"
   ]
  },
  {
   "cell_type": "code",
   "execution_count": 19,
   "metadata": {},
   "outputs": [
    {
     "name": "stdout",
     "output_type": "stream",
     "text": [
      "FM RMSE: 1.2185\n"
     ]
    }
   ],
   "source": [
    "from sklearn.metrics import mean_squared_error\n",
    "import numpy as np\n",
    "preds = fm.predict(X_test)\n",
    "rmse = np.sqrt(mean_squared_error(y_test,preds))\n",
    "print(f\"FM RMSE: {rmse:.4f}\")"
   ]
  },
  {
   "cell_type": "code",
   "execution_count": 20,
   "metadata": {},
   "outputs": [
    {
     "name": "stdout",
     "output_type": "stream",
     "text": [
      "[Baseline] : RMSE = 1.1220\n"
     ]
    }
   ],
   "source": [
    "# baseline\n",
    "y_train_mean=y_train.mean()*np.ones(len(y_test))\n",
    "print(f\"[Baseline] : RMSE = {np.sqrt(mean_squared_error(y_train_mean, y_test)):0.4f}\")"
   ]
  },
  {
   "cell_type": "code",
   "execution_count": null,
   "metadata": {},
   "outputs": [],
   "source": [
    "import lightgbm as lgb\n",
    "gbm = lgb.LGBMRegressor()\n",
    "gbm.fit(X_train.toarray(), y_train)\n",
    "preds= gbm.predict(X_test.toarray())\n",
    "rmse = np.sqrt(mean_squared_error(y_test,preds))\n",
    "print(f\"LightGBM RMSE: {rmse:.4f}\")"
   ]
  },
  {
   "cell_type": "code",
   "execution_count": null,
   "metadata": {},
   "outputs": [],
   "source": []
  },
  {
   "cell_type": "code",
   "execution_count": null,
   "metadata": {},
   "outputs": [],
   "source": []
  },
  {
   "cell_type": "code",
   "execution_count": null,
   "metadata": {},
   "outputs": [],
   "source": []
  }
 ],
 "metadata": {
  "kernelspec": {
   "display_name": "Python 3",
   "language": "python",
   "name": "python3"
  },
  "language_info": {
   "codemirror_mode": {
    "name": "ipython",
    "version": 3
   },
   "file_extension": ".py",
   "mimetype": "text/x-python",
   "name": "python",
   "nbconvert_exporter": "python",
   "pygments_lexer": "ipython3",
   "version": "3.6.7"
  }
 },
 "nbformat": 4,
 "nbformat_minor": 2
}
